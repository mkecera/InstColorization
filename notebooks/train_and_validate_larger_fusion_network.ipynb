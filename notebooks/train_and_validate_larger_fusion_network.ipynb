{
 "nbformat": 4,
 "nbformat_minor": 0,
 "metadata": {
  "accelerator": "GPU",
  "colab": {
   "name": "train_and_validate_larger_fusion_network.ipynb",
   "provenance": [
    {
     "file_id": "1PYa7ET_q_MMHBqb49uDMmsfZXb8b1Cbx",
     "timestamp": 1627219843420
    }
   ],
   "collapsed_sections": [],
   "authorship_tag": "ABX9TyOMNAmtPQY2Gallvjb6oLgJ"
  },
  "kernelspec": {
   "name": "python3",
   "language": "python",
   "display_name": "Python 3 (ipykernel)"
  },
  "language_info": {
   "name": "python"
  }
 },
 "cells": [
  {
   "cell_type": "markdown",
   "source": [
    "## Clone dataset (for Colab)"
   ],
   "metadata": {
    "collapsed": false,
    "pycharm": {
     "name": "#%% md\n"
    }
   }
  },
  {
   "cell_type": "code",
   "execution_count": null,
   "outputs": [],
   "source": [
    "!git clone https://github.com/mkecera/InstColorization.git\n",
    "%cd InstColorization"
   ],
   "metadata": {
    "collapsed": false,
    "pycharm": {
     "name": "#%%\n"
    }
   }
  },
  {
   "cell_type": "markdown",
   "source": [
    "## Initialize hyperparameters\n",
    "\n",
    "- `TRAIN_DATASET_DIR` directory of the training dataset (will be downloaded)\n",
    "- `VAL_DATASET_DIR` directory of the validation dataset (will be downloaded)\n",
    "- `LEARNING_RATE` the learning rate\n",
    "- `EPOCHS` the amount of epochs\n",
    "- `EXPERIMENT_NAME` the label of the experiment. It is used in order to label the result files"
   ],
   "metadata": {
    "collapsed": false
   }
  },
  {
   "cell_type": "code",
   "execution_count": null,
   "outputs": [],
   "source": [
    "TRAIN_DATASET_DIR=\"./train_tiny\"\n",
    "VAL_DATASET_DIR=\"./val_tiny\"\n",
    "\n",
    "LEARNING_RATE = 0.0005\n",
    "EPOCHS = 20\n",
    "EXPERIMENT_NAME=\"larger\""
   ],
   "metadata": {
    "collapsed": false,
    "pycharm": {
     "name": "#%%\n"
    }
   }
  },
  {
   "cell_type": "code",
   "execution_count": null,
   "outputs": [],
   "source": [
    "!mkdir -p loss_results\n",
    "!mkdir -p plot_results"
   ],
   "metadata": {
    "collapsed": false,
    "pycharm": {
     "name": "#%%\n"
    }
   }
  },
  {
   "cell_type": "markdown",
   "source": [
    "## Get training dataset\n",
    "\n",
    "Downloads the training dataset from amazon aws."
   ],
   "metadata": {
    "collapsed": false,
    "pycharm": {
     "name": "#%% md\n"
    }
   }
  },
  {
   "cell_type": "code",
   "metadata": {
    "colab": {
     "base_uri": "https://localhost:8080/"
    },
    "id": "xWwPCaPSm024",
    "executionInfo": {
     "status": "ok",
     "timestamp": 1627115728568,
     "user_tz": -120,
     "elapsed": 28473,
     "user": {
      "displayName": "Konstantinos Platis",
      "photoUrl": "https://lh3.googleusercontent.com/a-/AOh14GjTjuHZHJYzZc3hM2xXQnqYBfXhxCoAexAPy1iI=s64",
      "userId": "00140128041826535487"
     }
    },
    "outputId": "79a5654a-01f6-4464-a2c8-e68866fa7de9"
   },
   "source": [
    "!wget \"https://gatech-deep-learning.s3.eu-west-1.amazonaws.com/train_tiny.zip\"\n",
    "!unzip train_tiny.zip\n",
    "!rm train_tiny.zip"
   ],
   "execution_count": null,
   "outputs": []
  },
  {
   "cell_type": "markdown",
   "source": [
    "## Get validation dataset\n",
    "\n",
    "Downloads the validation dataset from amazon aws."
   ],
   "metadata": {
    "collapsed": false
   }
  },
  {
   "cell_type": "code",
   "metadata": {
    "colab": {
     "base_uri": "https://localhost:8080/"
    },
    "id": "ZnseW4NenhH3",
    "executionInfo": {
     "status": "ok",
     "timestamp": 1627115736045,
     "user_tz": -120,
     "elapsed": 7510,
     "user": {
      "displayName": "Konstantinos Platis",
      "photoUrl": "https://lh3.googleusercontent.com/a-/AOh14GjTjuHZHJYzZc3hM2xXQnqYBfXhxCoAexAPy1iI=s64",
      "userId": "00140128041826535487"
     }
    },
    "outputId": "21703866-fb3a-4c9b-b847-d6cf0e6362e8"
   },
   "source": [
    "!wget \"https://gatech-deep-learning.s3.eu-west-1.amazonaws.com/val_tiny.zip\"\n",
    "!unzip val_tiny.zip\n",
    "!rm val_tiny.zip\n"
   ],
   "execution_count": null,
   "outputs": []
  },
  {
   "cell_type": "markdown",
   "source": [
    "## Get testing dataset\n",
    "\n",
    "Downloads the testing dataset from amazon aws."
   ],
   "metadata": {
    "collapsed": false
   }
  },
  {
   "cell_type": "code",
   "metadata": {
    "colab": {
     "base_uri": "https://localhost:8080/"
    },
    "id": "oKaSrSi6V39O",
    "executionInfo": {
     "status": "ok",
     "timestamp": 1627115744233,
     "user_tz": -120,
     "elapsed": 8206,
     "user": {
      "displayName": "Konstantinos Platis",
      "photoUrl": "https://lh3.googleusercontent.com/a-/AOh14GjTjuHZHJYzZc3hM2xXQnqYBfXhxCoAexAPy1iI=s64",
      "userId": "00140128041826535487"
     }
    },
    "outputId": "c300b351-bc1a-433f-b73a-34337312159a"
   },
   "source": [
    "!wget \"https://gatech-deep-learning.s3.eu-west-1.amazonaws.com/test_tiny.zip\"\n",
    "!unzip test_tiny.zip\n",
    "!rm test_tiny.zip\n"
   ],
   "execution_count": null,
   "outputs": []
  },
  {
   "cell_type": "markdown",
   "source": [
    "## Install Conda\n",
    "\n",
    "Conda is used as dependency manager"
   ],
   "metadata": {
    "collapsed": false,
    "pycharm": {
     "name": "#%% md\n"
    }
   }
  },
  {
   "cell_type": "code",
   "metadata": {
    "colab": {
     "base_uri": "https://localhost:8080/"
    },
    "id": "stv7IrIKo4k7",
    "executionInfo": {
     "status": "ok",
     "timestamp": 1627115844471,
     "user_tz": -120,
     "elapsed": 100243,
     "user": {
      "displayName": "Konstantinos Platis",
      "photoUrl": "https://lh3.googleusercontent.com/a-/AOh14GjTjuHZHJYzZc3hM2xXQnqYBfXhxCoAexAPy1iI=s64",
      "userId": "00140128041826535487"
     }
    },
    "outputId": "729ae61b-829b-418d-daef-e33aeec4dcc7"
   },
   "source": [
    "# Install conda and add channels to look for packages in\n",
    "import sys\n",
    "! wget https://repo.anaconda.com/archive/Anaconda3-2020.02-Linux-x86_64.sh\n",
    "! chmod +x Anaconda3-2020.02-Linux-x86_64.sh\n",
    "! bash ./Anaconda3-2020.02-Linux-x86_64.sh -b -f -p /usr/local\n",
    "sys.path.append('/usr/local/lib/python3.7/site-packages/')\n",
    "! conda update -n base -c defaults conda -y\n",
    "! conda config --add channels bioconda\n",
    "! conda config --add channels conda-forge"
   ],
   "execution_count": null,
   "outputs": []
  },
  {
   "cell_type": "markdown",
   "source": [
    "## Install dependencies"
   ],
   "metadata": {
    "collapsed": false,
    "pycharm": {
     "name": "#%% md\n"
    }
   }
  },
  {
   "cell_type": "code",
   "metadata": {
    "colab": {
     "base_uri": "https://localhost:8080/"
    },
    "id": "qkV5OkDppfZd",
    "executionInfo": {
     "status": "ok",
     "timestamp": 1627115941236,
     "user_tz": -120,
     "elapsed": 96771,
     "user": {
      "displayName": "Konstantinos Platis",
      "photoUrl": "https://lh3.googleusercontent.com/a-/AOh14GjTjuHZHJYzZc3hM2xXQnqYBfXhxCoAexAPy1iI=s64",
      "userId": "00140128041826535487"
     }
    },
    "outputId": "ad0c9311-b5b2-4aa9-c58e-1af04a85faba"
   },
   "source": [
    "!conda env create --file env.yml\n",
    "# !conda remove --name instacolorization --all"
   ],
   "execution_count": null,
   "outputs": []
  },
  {
   "cell_type": "code",
   "metadata": {
    "colab": {
     "base_uri": "https://localhost:8080/"
    },
    "id": "ASlTc0hkquka",
    "executionInfo": {
     "status": "ok",
     "timestamp": 1627115941705,
     "user_tz": -120,
     "elapsed": 474,
     "user": {
      "displayName": "Konstantinos Platis",
      "photoUrl": "https://lh3.googleusercontent.com/a-/AOh14GjTjuHZHJYzZc3hM2xXQnqYBfXhxCoAexAPy1iI=s64",
      "userId": "00140128041826535487"
     }
    },
    "outputId": "938d52bb-be2b-44eb-fc2e-604eef2b951b"
   },
   "source": [
    "!source activate instacolorization && conda env list"
   ],
   "execution_count": null,
   "outputs": []
  },
  {
   "cell_type": "code",
   "metadata": {
    "colab": {
     "base_uri": "https://localhost:8080/"
    },
    "id": "ovy6FKFn-bvA",
    "executionInfo": {
     "status": "ok",
     "timestamp": 1627116066782,
     "user_tz": -120,
     "elapsed": 125080,
     "user": {
      "displayName": "Konstantinos Platis",
      "photoUrl": "https://lh3.googleusercontent.com/a-/AOh14GjTjuHZHJYzZc3hM2xXQnqYBfXhxCoAexAPy1iI=s64",
      "userId": "00140128041826535487"
     }
    },
    "outputId": "b46f854f-9580-4aa3-b40d-bd7fd271d0f9"
   },
   "source": [
    "!sh scripts/install.sh\n",
    "!pip install opencv-python visdom gdown"
   ],
   "execution_count": null,
   "outputs": []
  },
  {
   "cell_type": "markdown",
   "source": [
    "## Download checkpoints"
   ],
   "metadata": {
    "collapsed": false,
    "pycharm": {
     "name": "#%% md\n"
    }
   }
  },
  {
   "cell_type": "code",
   "metadata": {
    "colab": {
     "base_uri": "https://localhost:8080/"
    },
    "id": "cy-rppY-3SYN",
    "executionInfo": {
     "status": "ok",
     "timestamp": 1627116084146,
     "user_tz": -120,
     "elapsed": 17390,
     "user": {
      "displayName": "Konstantinos Platis",
      "photoUrl": "https://lh3.googleusercontent.com/a-/AOh14GjTjuHZHJYzZc3hM2xXQnqYBfXhxCoAexAPy1iI=s64",
      "userId": "00140128041826535487"
     }
    },
    "outputId": "44ed302b-e07b-453d-f442-2dba8105f716",
    "pycharm": {
     "name": "#%%\n"
    }
   },
   "source": [
    "!rm -r checkpoints/\n",
    "!gdown --id 1Xb-DKAA9ibCVLqm8teKd1MWk6imjwTBh\n",
    "!unzip checkpoints.zip"
   ],
   "execution_count": null,
   "outputs": []
  },
  {
   "cell_type": "markdown",
   "source": [
    "## Prepare bounding boxes"
   ],
   "metadata": {
    "collapsed": false
   }
  },
  {
   "cell_type": "code",
   "execution_count": null,
   "outputs": [],
   "source": [
    "!python inference_bbox.py --test_img_dir $TRAIN_DATASET_DIR --filter_no_obj\n",
    "!python inference_bbox.py --test_img_dir $VAL_DATASET_DIR --filter_no_obj"
   ],
   "metadata": {
    "collapsed": false,
    "pycharm": {
     "name": "#%%\n"
    }
   }
  },
  {
   "cell_type": "markdown",
   "source": [
    "## Train and validate third stage - Fusion module"
   ],
   "metadata": {
    "collapsed": false
   }
  },
  {
   "cell_type": "code",
   "metadata": {
    "id": "bo9ZpjdvbA3l",
    "colab": {
     "base_uri": "https://localhost:8080/"
    },
    "executionInfo": {
     "status": "ok",
     "timestamp": 1627134140572,
     "user_tz": -120,
     "elapsed": 5754294,
     "user": {
      "displayName": "Konstantinos Platis",
      "photoUrl": "https://lh3.googleusercontent.com/a-/AOh14GjTjuHZHJYzZc3hM2xXQnqYBfXhxCoAexAPy1iI=s64",
      "userId": "00140128041826535487"
     }
    },
    "outputId": "fd6fb4a6-8e55-4ba0-dd8c-9699cb46f876",
    "pycharm": {
     "name": "#%%\n"
    }
   },
   "source": [
    "!mkdir ./checkpoints/$EXPERIMENT_NAME\n",
    "!cp ./checkpoints/coco_finetuned_mask_256/latest_net_G.pth ./checkpoints/$EXPERIMENT_NAME/latest_net_GF.pth\n",
    "!cp ./checkpoints/coco_finetuned_mask_256/latest_net_G.pth ./checkpoints/$EXPERIMENT_NAME/latest_net_G.pth\n",
    "!cp ./checkpoints/coco_finetuned_mask_256/latest_net_GComp.pth ./checkpoints/$EXPERIMENT_NAME/latest_net_GComp.pth\n",
    "\n",
    "!python train_with_validation.py --stage fusion --fusion_type larger --name $EXPERIMENT_NAME  --train_img_dir train_tiny --test_img_dir val_tiny --sample_p 1.0 --niter $EPOCHS --niter_decay 0 --lr $LEARNING_RATE --model train --load_model --display_ncols 4 --fineSize 256 --batch_size 1 --display_freq 1 --print_freq 1 --save_epoch_freq 10 --no_html --display_id -1"
   ],
   "execution_count": null,
   "outputs": []
  },
  {
   "cell_type": "markdown",
   "source": [
    "## Download plots"
   ],
   "metadata": {
    "collapsed": false,
    "pycharm": {
     "name": "#%% md\n"
    }
   }
  },
  {
   "cell_type": "code",
   "execution_count": null,
   "outputs": [],
   "source": [
    "!zip -r plot_results.zip ./plot_results/\n",
    "\n",
    "from google.colab import files\n",
    "files.download(\"plot_results.zip\")"
   ],
   "metadata": {
    "collapsed": false,
    "pycharm": {
     "name": "#%%\n"
    }
   }
  }
 ]
}